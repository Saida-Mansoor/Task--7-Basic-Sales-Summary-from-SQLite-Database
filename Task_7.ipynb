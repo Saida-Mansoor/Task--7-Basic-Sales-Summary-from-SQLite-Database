{
  "nbformat": 4,
  "nbformat_minor": 0,
  "metadata": {
    "colab": {
      "provenance": []
    },
    "kernelspec": {
      "name": "python3",
      "display_name": "Python 3"
    },
    "language_info": {
      "name": "python"
    }
  },
  "cells": [
    {
      "cell_type": "markdown",
      "source": [
        "# Task 7: Basic Sales Summary from SQLite Database"
      ],
      "metadata": {
        "id": "D6dSqY_S_ieE"
      }
    },
    {
      "cell_type": "code",
      "execution_count": 1,
      "metadata": {
        "id": "Zf06mg1Is_8m"
      },
      "outputs": [],
      "source": [
        "# 1. Import Required Libraries\n",
        "\n",
        "import sqlite3                    # To connect and interact with SQLite database\n",
        "import pandas as pd               # To handle and manipulate data\n",
        "import matplotlib.pyplot as plt   # To create visualizations\n"
      ]
    },
    {
      "cell_type": "code",
      "source": [
        "# 2. Connect to SQLite Database\n",
        "conn = sqlite3.connect(\"sales_data.db\")   # Connect to the database file"
      ],
      "metadata": {
        "id": "MBHitmyvu9ks"
      },
      "execution_count": 2,
      "outputs": []
    },
    {
      "cell_type": "code",
      "source": [
        "# 3. Create a cursor object to execute SQL commands\n",
        "cursor = conn.cursor()"
      ],
      "metadata": {
        "id": "XE6jbvm1vDJ1"
      },
      "execution_count": 3,
      "outputs": []
    },
    {
      "cell_type": "code",
      "source": [
        "# 4. Create the 'sales' table if it doesn't already exist\n",
        "# The table includes: id, product_name, quantity, and price\n",
        "\n",
        "cursor.execute(\"\"\"\n",
        "    CREATE TABLE IF NOT EXISTS sales (\n",
        "        id INTEGER PRIMARY KEY,\n",
        "        product_name TEXT,\n",
        "        quantity INTEGER,\n",
        "        price REAL\n",
        "    )\n",
        "\n",
        "\"\"\")"
      ],
      "metadata": {
        "colab": {
          "base_uri": "https://localhost:8080/"
        },
        "id": "9d7WF2i2vODr",
        "outputId": "6ca49da0-66a2-4559-c512-bd44ed7e09f3"
      },
      "execution_count": 4,
      "outputs": [
        {
          "output_type": "execute_result",
          "data": {
            "text/plain": [
              "<sqlite3.Cursor at 0x7fd996ad0ac0>"
            ]
          },
          "metadata": {},
          "execution_count": 4
        }
      ]
    },
    {
      "cell_type": "code",
      "source": [
        "# 5. Insert sample sales records into the table\n",
        "\n",
        "cursor.execute(\"INSERT INTO sales (product_name, quantity, price) VALUES (?, ?, ?)\", (\"Product A\", 10, 10.0))\n",
        "cursor.execute(\"INSERT INTO sales (product_name, quantity, price) VALUES (?, ?, ?)\", (\"Product B\", 5, 20.0))\n",
        "cursor.execute(\"INSERT INTO sales (product_name, quantity, price) VALUES (?, ?, ?)\", (\"Product C\", 2, 50.0))\n",
        "\n",
        "# Save (commit) the changes to the database\n",
        "conn.commit()\n",
        "# Close the database connection\n",
        "conn.close()"
      ],
      "metadata": {
        "id": "6Sw166KDwDRc"
      },
      "execution_count": 5,
      "outputs": []
    },
    {
      "cell_type": "code",
      "source": [
        "# 6. Connect to SQLite database\n",
        "conn = sqlite3.connect(\"sales_data.db\")"
      ],
      "metadata": {
        "id": "DrKSrlQLxDku"
      },
      "execution_count": 6,
      "outputs": []
    },
    {
      "cell_type": "code",
      "source": [
        "# 7. Define and Run SQL Query\n",
        "# This query calculates total quantity and revenue for each product\n",
        "\n",
        "query = \"\"\"\n",
        "    SELECT product_name,\n",
        "           SUM(quantity) AS total_qty,\n",
        "           SUM(quantity * price) AS revenue\n",
        "    FROM sales\n",
        "    GROUP BY product_name\n",
        "\"\"\""
      ],
      "metadata": {
        "id": "x0Fg22A2xGXK"
      },
      "execution_count": 7,
      "outputs": []
    },
    {
      "cell_type": "code",
      "source": [
        "# 8. Load Query Results into a DataFrame\n",
        "df = pd.read_sql_query(query, conn)   # Run the query and load result into pandas"
      ],
      "metadata": {
        "id": "tZBZUYUdxIbK"
      },
      "execution_count": 8,
      "outputs": []
    },
    {
      "cell_type": "code",
      "source": [
        "# 9. Display Data in Console\n",
        "print(\"Sales Summary:\")\n",
        "print(df)   # Print the summary table"
      ],
      "metadata": {
        "colab": {
          "base_uri": "https://localhost:8080/"
        },
        "id": "7wvvUruxxRYS",
        "outputId": "8365b0db-6af5-4abe-e4df-00edc9b9fbc8"
      },
      "execution_count": 9,
      "outputs": [
        {
          "output_type": "stream",
          "name": "stdout",
          "text": [
            "Sales Summary:\n",
            "  product_name  total_qty  revenue\n",
            "0    Product A         10    100.0\n",
            "1    Product B          5    100.0\n",
            "2    Product C          2    100.0\n"
          ]
        }
      ]
    },
    {
      "cell_type": "code",
      "source": [
        "# 10. Create a Bar Chart for Revenue by Product\n",
        "# Plotting revenue per product using a simple bar chart\n",
        "\n",
        "df.plot(kind='bar', x='product_name', y='revenue', legend=None, color='#ce6cb6')\n",
        "plt.title('Sales Revenue by Product')\n",
        "plt.xlabel('Product')\n",
        "plt.ylabel('Revenue ($)')\n",
        "plt.tight_layout()\n",
        "plt.show()"
      ],
      "metadata": {
        "colab": {
          "base_uri": "https://localhost:8080/",
          "height": 487
        },
        "id": "nyGCfq5vxTsg",
        "outputId": "2f82849a-af02-417e-86b7-c4131697b6b4"
      },
      "execution_count": 10,
      "outputs": [
        {
          "output_type": "display_data",
          "data": {
            "text/plain": [
              "<Figure size 640x480 with 1 Axes>"
            ],
            "image/png": "[encoded data removed]"
          },
          "metadata": {}
        }
      ]
    },
    {
      "cell_type": "code",
      "source": [
        "# 11. Save and Show the Chart\n",
        "plt.savefig(\"sales_chart.png\")  # Save the chart as an image\n",
        "plt.show()                      # Display the chart"
      ],
      "metadata": {
        "colab": {
          "base_uri": "https://localhost:8080/",
          "height": 34
        },
        "id": "nZ-nYqLVAfJb",
        "outputId": "301d8da9-f395-4102-ee4e-44c319963d43"
      },
      "execution_count": 11,
      "outputs": [
        {
          "output_type": "display_data",
          "data": {
            "text/plain": [
              "<Figure size 640x480 with 0 Axes>"
            ]
          },
          "metadata": {}
        }
      ]
    },
    {
      "cell_type": "code",
      "source": [
        "# 12. Close the connection\n",
        "conn.close()"
      ],
      "metadata": {
        "id": "2iguJ7o8yNTy"
      },
      "execution_count": 12,
      "outputs": []
    }
  ]
}